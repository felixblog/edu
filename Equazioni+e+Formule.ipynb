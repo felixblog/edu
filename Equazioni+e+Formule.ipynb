{
 "cells": [
  {
   "cell_type": "markdown",
   "metadata": {},
   "source": [
    "# Esercizi su Equazioni e Formule"
   ]
  },
  {
   "cell_type": "markdown",
   "metadata": {},
   "source": [
    "### ESERCIZIO - Verifica Soluzione\n",
    "\n",
    "Controlla se il numero dato è soluzione della equazione.\n",
    "\n",
    "a) $6,\\enspace x + 12 = 28;$  \n",
    "\n",
    "b) $110,\\enspace x - 50 = 60;$  \n",
    "\n",
    "c) $-8,\\enspace 2b + 3 = -15;$ \n",
    "\n",
    "e) $-2,\\enspace 5t - 3 = -16;$    \n",
    "\n",
    "f) $5,\\enspace 0.5x = 2.9$ \n",
    "\n",
    "g) $-6,\\enspace 33 - \\dfrac{x}{2} = 30$  \n",
    "\n",
    "h) $5,\\enspace 0.5x = 2.9$\n",
    "\n",
    "i) $1,\\enspace \\dfrac{2}{a + 1} + 5 = \\dfrac{12}{a + 1}$\n",
    "\n",
    "l) $\\dfrac{7}{3},\\enspace -4 = a + \\dfrac{5}{3}$"
   ]
  },
  {
   "cell_type": "markdown",
   "metadata": {},
   "source": [
    "### ESERCIZIO - Proprietà dell'uguaglianza\n",
    "\n",
    "Individua quale proprietà dell'uguaglianza è necessaria per risolvere ciascuna delle seguenti equazioni.\n",
    "\n",
    "a) $9 = p - 9;$\n",
    "\n",
    "b) $y - 1.2 = -1.3;$\n",
    "\n",
    "c) $\\dfrac{7}{15} = b - \\dfrac{1}{15};$\n",
    "\n",
    "d) $\\dfrac{x}{15} = 3;$\n",
    "\n",
    "e) $0 = \\dfrac{v}{11};$\n",
    "\n",
    "f) $\\dfrac{c}{-2} = -11;$\n",
    "\n",
    "g) $9.4 + h = 0.81;$\n",
    "\n",
    "h) $\\dfrac{3}{2}c = 10;$\n",
    "\n",
    "i) $-\\dfrac{5}{4}h = -5;$"
   ]
  },
  {
   "cell_type": "markdown",
   "metadata": {},
   "source": [
    "### ESERCIZIO - Risoluzione di equazioni\n",
    "\n",
    "Risolvi le seguenti equazioni scrivendo a fianco di ogni passaggio la proprietà dell'uguaglianza utilizzata.\n",
    "\n",
    "a) $2x + 5 = 17;\\enspace 5q - 2 = 23$   \n",
    "\n",
    "b) $-55 = 3w + 5;\\enspace \\dfrac{5}{6}k - 5 = 10;$   \n",
    "\n",
    "c) $\\dfrac{x}{5} - 5 = -12;\\enspace -5 - 2d = 0;$   \n",
    "\n",
    "d) $0.7 - 4y = 1.7;\\enspace 0.3 - 2x = -0.9;$  \n",
    "\n",
    "e) $3\\left(2y - 2\\right) - y = 5;\\enspace -\\left(4 -m\\right) = -10;$   \n",
    "\n",
    "f) $5x = 4x + 7;\\enspace 7 + 3w = 4 + 9w$   \n",
    "\n",
    "g) $\\dfrac{1}{8}y - \\dfrac{1}{2} = \\dfrac{1}{4};\\enspace \\dfrac{2}{3} = -\\dfrac{2}{3}x + \\dfrac{3}{4}$   \n",
    "\n",
    "h) $\\dfrac{10 - 5s}{3}y = s;\\enspace \\dfrac{5\\left(1 - x\\right)}{6} = -x + 1$   \n",
    "\n",
    "\n"
   ]
  },
  {
   "cell_type": "markdown",
   "metadata": {},
   "source": [
    "### ESERCIZIO - Soluzione di formule\n",
    "\n",
    "Risolvi ciascuna formula per la variabile indicata.\n",
    "\n",
    "a) $r = c + m ~~~ per ~~ c;\\enspace\\enspace\\enspace a + b + c = 180 ~~~ per ~~ a$\n",
    "\n",
    "a) $E = I\\cdotp R ~~~ per ~~ R \\enspace\\enspace\\enspace I = c\\cdotp i\\cdotp t ~~~ per ~~ i$\n",
    "\n",
    "a) $3x + y = 9 ~~~ per ~~ y \\enspace\\enspace\\enspace 5y - x = 25 ~~~ per ~~ y$\n",
    "\n",
    "d) $-x + 3y = 9 ~~~ per ~~ y;\\enspace\\enspace\\enspace \\dfrac{7}{8}c + w = 9 ~~~ per ~~ c$"
   ]
  },
  {
   "cell_type": "markdown",
   "metadata": {},
   "source": [
    "### ESERCIZIO - Applicazione di formule\n",
    "\n",
    "Risolvi i problemi seguenti individuando ed applicando le formule opportune.  \n",
    "\n",
    "a) Nel 2006 il film Titanic ha avuto un incasso mondiale di 1835 milioni di dollari con un profitto di 1595 milioni. Quanto è costato il film?\n",
    "\n",
    "b) Trova il profitto di un fioraio che nel giorno di San Valentino compra una dozzina di rose a 12.95 euro e le rivende a 47.50.  \n",
    "c) Se una mongolfiera viaggia ad una media di 37 Km/h, quanto tempo impiegherà a percorrere 166 Km?  \n",
    "\n",
    "d) Un aereo vola tra Chicago e S. Francisco in 3.75 ore. Se le città distano 2100 Km quale è la velocità media dell'aereo?"
   ]
  },
  {
   "cell_type": "code",
   "execution_count": null,
   "metadata": {
    "collapsed": true
   },
   "outputs": [],
   "source": []
  }
 ],
 "metadata": {
  "anaconda-cloud": {},
  "kernelspec": {
   "display_name": "Python [conda root]",
   "language": "python",
   "name": "conda-root-py"
  },
  "language_info": {
   "codemirror_mode": {
    "name": "ipython",
    "version": 3
   },
   "file_extension": ".py",
   "mimetype": "text/x-python",
   "name": "python",
   "nbconvert_exporter": "python",
   "pygments_lexer": "ipython3",
   "version": "3.5.2"
  }
 },
 "nbformat": 4,
 "nbformat_minor": 1
}
