{
 "cells": [
  {
   "cell_type": "markdown",
   "metadata": {},
   "source": [
    "# Esercizi di calcolo letterale: monomi e polinomi"
   ]
  },
  {
   "cell_type": "markdown",
   "metadata": {},
   "source": [
    "### ESERCIZIO 1 - Dalle parole alle espressioni (I)\n",
    "\n",
    "Scrivi l'espressione letterale corrispondente ad ognuno dei termini elencati. Se non è già indicato, scegli una lettera per indicare la quantità sconosciuta.\n",
    "\n",
    "a) La somma della lunghezza di a e 15;  \n",
    "\n",
    "b) La differenza di un numero e 10;  \n",
    "\n",
    "c) I tre quarti della popolazione p;  \n",
    "\n",
    "e) Il rapporto tra chi ha vinto v e chi perso p;   \n",
    "\n",
    "f) 500 ridotto di j;  \n",
    "\n",
    "g) 21 kg in meno del peso totale;   \n",
    "\n",
    "h) Il doppio del valore atteso;  \n",
    "\n",
    "i) 25.000 euro in più del costo c.  "
   ]
  },
  {
   "cell_type": "markdown",
   "metadata": {},
   "source": [
    "### ESERCIZIO 2 - Dalle espressioni alle parole\n",
    "\n",
    "Traduci in parole le espressioni seguenti cominciando con: “Dati i numeri a e b, scrivi ...”.\n",
    "\n",
    "a) $a-\\left(b+c\\right)$; $a+\\left(-b\\right)-c$\n",
    "\n",
    "b) $\\left(\\dfrac{1}{a}\\cdot b\\right):\\left(-c\\right);$\n",
    "\n",
    "c) $\\left(a+b\\right)^{2}\\left(-a-b\\right)^{2}.$\n",
    "\n",
    "d) Scegli la descrizione corretta dell'espressione $\\left[a-\\left(-\\dfrac{1}{a}\\right)\\right]^{2}$:\n",
    "\n",
    "1. la differenza tra un numero e il suo reciproco al quadrato;  \n",
    "2. la differenza tra un numero e l'opposto del suo reciproco al quadrato;  \n",
    "3. il quadrato della differenza tra un numero e l'opposto del suo reciproco;  \n",
    "4. il quadrato di un numero meno l'opposto del suo reciproco."
   ]
  },
  {
   "cell_type": "markdown",
   "metadata": {},
   "source": [
    "### ESERCIZIO 3 - Forma normale dei monomi\n",
    "\n",
    "Scrivi i seguenti monomi in forma normale.\n",
    "\n",
    "a) $ab\\left(-\\dfrac{1}{2}\\right)a;$   \n",
    "\n",
    "b) $ab\\left(-\\dfrac{1}{2}\\right)a^{2};$   \n",
    "\n",
    "c) $\\dfrac{5}{3}b\\left(-4\\right)a;$   \n",
    "\n",
    "d) $a^{2}b\\left(-\\dfrac{1}{2}\\right)a\\dfrac{5}{3}b^{3}\\left(-4\\right)a;$   \n"
   ]
  },
  {
   "cell_type": "markdown",
   "metadata": {},
   "source": [
    "### ESERCIZIO 4 - Somme di monomi\n",
    "\n",
    "Indica la somma dei seguenti monomi e semplifica il risultato se possibile.\n",
    "\n",
    "a) $\\dfrac{1}{2}x; -3x; 7x$\n",
    "\n",
    "b) $\\dfrac{1}{2}xy; -3xy; 7xy$\n",
    "\n",
    "c) $-3a^{2}x; 7ax;$\n",
    "\n",
    "d) $\\dfrac{1}{2}x^{3}y; -x^{3}y$"
   ]
  },
  {
   "cell_type": "markdown",
   "metadata": {},
   "source": [
    "### ESERCIZIO 5 - Prodotti di monomi\n",
    "\n",
    "Calcola i seguenti prodotti di monomi.  \n",
    "\n",
    "a) $2ab\\,\\cdotp\\left(-3a^{2}b\\right);\\,-a^{2}bc\\,\\cdotp\\left(-2ab^{2}\\right)$  \n",
    "\n",
    "b) $2a^{2}\\,\\cdotp\\left(-4a^{5}b^{3}\\right);\\,-4xy^{3}\\,\\cdotp\\dfrac{1}{2}x^{3}y^{2}$  \n",
    "\n",
    "b) $-4a^{5}b^{3}\\,\\cdotp\\left(-ab^{3}\\right)\\,\\cdotp\\dfrac{3}{2}a^{2}b^{2}$  \n",
    "\n"
   ]
  },
  {
   "cell_type": "markdown",
   "metadata": {},
   "source": [
    "### ESERCIZIO 6 - Dalle parole alle espressioni\n",
    "\n",
    "Risolvi i problemi seguenti.\n",
    "\n",
    "a) Un servizio di catering prepara solitamente i pasti per circa 10 persone in più del numero ordinato. Se ci si apettano p persone, scrivi il numero di pasti che il servizio preparerà.  \n",
    "\n",
    "b) L'ultimo anno un organizzazione caritatevole ha venduto x torte per una raccolta fondi. Quest'anno spera di venderne il 150% in più. Scrivi l'epressione che indica il numero di torte che ci si aspetta di vendere.  \n",
    "\n",
    "c) Uno studente deve scrivere un documento che contiene 60 parole al PC. Se lo studente scrive 60 parole al minuto, scrivi un'espresione che indica il numero di minuti necessari a scrivere il documento.\n",
    "\n",
    "d) Una corteo di b automobili, ciascuna con 5 persone a bordo, sta viaggiando verso la capitale per una manifestazione politica. Scrivi quante persone stanno andando alla menifestazione in corteo.  \n",
    "\n",
    "e) Una barca di 12 metri deve essere divisa in due parti. Indica con una lettera la lunghezza di una delle parti e scrivi l'espressione letterale per la lunghezza del'altra parte.  \n",
    "\n",
    "f) Il numero dei partecipanti ad una maratona quest'anno è superiore di 25 unità al doppio di quello dell'ultimo anno. Scrivi una espressione che indica il numero dei partecipanti di quest'anno.   \n",
    "\n",
    "g) L'IBM è stata fondata 80 anni prima della Apple. La Dell è stata fondata 9 anni prima della Apple. \n",
    "1. Indica con una lettera gli anni d'età di una delle aziende e scrivi le espressioni che indicano l'età delle altre.\n",
    "2. Il primo Aprile 2008 la Apple ha compiuto 32 anni. Quanti anni avevano le altre due?  \n",
    "\n",
    "h) Lincoln è stato eletto presidente degli USA 60 anni dopo Jefferson. Trump è stato eletto 215 anni dopo Jefferson. Scrivi le espressioni letterali che indicano l'anno di elezione di ciascun presidente."
   ]
  },
  {
   "cell_type": "markdown",
   "metadata": {},
   "source": [
    "### ESERCIZIO 7 - Espressioni con monomi\n",
    "\n",
    "Semplifica le seguenti espressioni.\n",
    "\n",
    "a) $a^{2}x\\,\\cdotp\\left(\\dfrac{1}{2}x\\right)+\\left(\\dfrac{1}{2}ax\\right)\\,\\cdotp\\left(\\dfrac{3}{2}a\\right)-\\dfrac{2}{3}a^{2}x^{2}$  \n",
    "\n",
    "b) $\\left(-2x\\right)\\left(-\\dfrac{1}{2}y\\right)+\\left(-2y\\right)x+xy+y\\left(-x\\right)+2xy+y\\left(-x\\right)$  \n",
    "\n",
    "c) $x^{2}+7x^{2}-2\\left(-x^{2}\\right)+2\\left(-4\\right)x^{2}+2x^{2}-2x^{2}+x^{2}-x\\left(2x\\right)+4x^{2}-2\\left(2x^{2}\\right)$  "
   ]
  },
  {
   "cell_type": "markdown",
   "metadata": {},
   "source": [
    "### ESERCIZIO 8 - Polinomi in forma normale\n",
    "\n",
    "Riduci i seguenti polinomi in forma normale. pag. 330, 290\n",
    "\n",
    "a) $a^{2}b^{2}+a^{2}-b^{2}-2a^{2}b^{2}+a^{2};$  \n",
    "\n",
    "b) $5ab - 2a^{2} + ab -a^{2}; xy - 3x^{2}y +2xy + x^{2}y;$  \n",
    "\n",
    "c) $\\dfrac{1}{5}ab -2a +1 + \\dfrac{1}{3}a -5 +\\dfrac{4}{5}ab;$  \n"
   ]
  },
  {
   "cell_type": "markdown",
   "metadata": {},
   "source": [
    "### ESERCIZIO 9 - Somma di polinomi\n",
    "\n",
    "Esegui le seguenti addizioni e sottrazioni tra polinomi.\n",
    "\n",
    "\n",
    "a) $\\left(4x^{3}-5x^{2}+2\\right)+\\left(-3x^{3}+2x^{2}-2\\right)$  \n",
    "\n",
    "b) $\\left(3a^{3}+5a^{2}-2a+1\\right)-\\left(3a^{3}-2a^{2}+5a-7\\right)$  \n",
    "\n"
   ]
  },
  {
   "cell_type": "markdown",
   "metadata": {},
   "source": [
    "### ESERCIZIO 10 - Dalle parole alle espressioni\n",
    "\n",
    "Dati i polinomi seguenti:\n",
    "\n",
    "1. $5a^{2}-2a+1;$  \n",
    "2. $3a+a^{2}-2;$  \n",
    "3. $a^{2}-1 + 2a;$  \n",
    "\n",
    "a) sottrai al primo la somma del secondo e del terzo;  \n",
    "b) aggiungi al terzo la differenza tra il secondo e il primo."
   ]
  },
  {
   "cell_type": "markdown",
   "metadata": {},
   "source": [
    "### ESERCIZIO 11 - Prodotto di monomi per polinomi\n",
    "\n",
    "Semplifica le seguenti espressioni.  \n",
    "\n",
    "a) $6\\left(x^{2}-2y\\right); \\left(-2\\right)\\,\\cdotp\\left(-3xy+2\\right)$ \n",
    "\n",
    "b) $a\\left(x+a\\right); b\\left(by-1\\right)$  \n",
    "\n",
    "c) $\\left(-4x^{2}y\\right)\\,\\cdotp\\left(-x^{3}+2xy-y\\right)$  \n",
    "\n",
    "d) $-4x\\left(2x+3y\\right)-3y\\left(-4x+y\\right)-2\\left(4x^{2}+3y^{2}\\right)$  "
   ]
  },
  {
   "cell_type": "markdown",
   "metadata": {},
   "source": [
    "### ESERCIZIO - Prodotto di polinomi\n",
    "\n",
    "Semplifica le seguenti espressioni.  \n",
    "\n",
    "a) $\\left(2a-3b\\right)\\left(5a+4b\\right);\\,\\left(x-3y\\right)\\left(5x+y\\right)$  \n",
    "\n",
    "b) $\\left(2x+y\\right)\\left(4x^{2}+2xy+y^{2}\\right);\\, \\left(a^{3}-3a+2\\right)\\left(\\dfrac{1}{2}a+1\\right)$\n",
    "\n",
    "c) $\\left(a^{3}+2b\\right)\\left(a^{3}-2b\\right)-\\left(a^{5}+a\\right)\\left(a-1\\right)$"
   ]
  }
 ],
 "metadata": {
  "anaconda-cloud": {},
  "kernelspec": {
   "display_name": "Python [conda root]",
   "language": "python",
   "name": "conda-root-py"
  },
  "language_info": {
   "codemirror_mode": {
    "name": "ipython",
    "version": 3
   },
   "file_extension": ".py",
   "mimetype": "text/x-python",
   "name": "python",
   "nbconvert_exporter": "python",
   "pygments_lexer": "ipython3",
   "version": "3.5.2"
  }
 },
 "nbformat": 4,
 "nbformat_minor": 1
}
