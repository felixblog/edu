{
 "cells": [
  {
   "cell_type": "markdown",
   "metadata": {},
   "source": [
    "# Esercizi sui Numeri Razionali"
   ]
  },
  {
   "cell_type": "markdown",
   "metadata": {},
   "source": [
    "### ESERCIZIO 1 - Il Concetto di Frazione\n",
    "\n",
    "Rispondi alle seguenti domande scrivendo la frazione richiesta.\n",
    "\n",
    "a) Da quante ore sto aspettando un treno se lo aspetto da 45 minuti?\n",
    "\n",
    "b) Quanti euro costa un giocattolo se lo pago con 5 monete da mezzo euro?\n",
    "\n",
    "c) Per ognuna delle seguenti figure, quale frazione di ora è trascorsa?\n",
    "\n",
    "![Orologi](img/Orologi.png)\n",
    "\n",
    "d) Considerando il carburante indicato nella figura seguente, quale è la frazione di serbatoio piena, quale quella vuota?\n",
    "\n",
    "![Indicatore](img/Serbatoio.png)\n",
    "\n",
    "e) Nella figura seguente sono riportati il numero dei nuovi iscritti al Corso Serale nel biennio 2015-2016.\n",
    "\n",
    "Individua la frazione dei nuovi iscritti di ciascun anno rispetto al totale.\n",
    "![Istogramma](img/Istogramma.png)\n",
    "\n"
   ]
  },
  {
   "cell_type": "markdown",
   "metadata": {},
   "source": [
    "### ESERCIZIO 2 - Frazioni equivalenti\n",
    "\n",
    "Utilizzando la definizione, stabilisci se le seguenti coppie di frazioni sono fra loro equivalenti ed individua quali frazioni sono maggiori di 1.\n",
    "\n",
    "a) $[\\dfrac{4}{5},\\dfrac{8}{10}];\\:[\\dfrac{6}{2},\\dfrac{10}{4}];\\:[\\dfrac{0}{15},\\dfrac{2}{30}];\\:[\\dfrac{1}{8},\\dfrac{2}{9}];\\:[\\dfrac{0}{20},\\dfrac{0}{40}];$\n",
    "\n",
    "[Verifica con SymPy: Eq(4/5,8/10) e Gt(4/5,1)]"
   ]
  },
  {
   "cell_type": "markdown",
   "metadata": {},
   "source": [
    "### ESERCIZIO 3 - Prodotto di frazioni\n",
    "\n",
    "Calcola i seguenti prodotti di frazioni.\n",
    "\n",
    "a) $\\dfrac{1}{2}\\cdot4;\\:\\dfrac{5}{3}\\cdot9;\\:\\dfrac{3}{2}\\cdot10;$\n",
    "\n",
    "b) $\\dfrac{3}{8}\\cdot\\dfrac{12}{15};\\:\\dfrac{7}{10}\\cdot\\dfrac{20}{21};$"
   ]
  },
  {
   "cell_type": "markdown",
   "metadata": {},
   "source": [
    "### ESERCIZIO 4 - Problemi con le frazioni (I)\n",
    "\n",
    "a) La ricetta di un dolce prevede l'uso di mezza tazza di farina. Di questa, tre quarti va impastata con le uova e la parte rimanente aggiunta in seguito. \n",
    "\n",
    "Quanta parte della tazza va aggiunta in seguito?\n",
    "\n",
    "b) Quanti minuti dura un viaggio di tre quarti d'ora? Quale è l'espressione per ottenere il risultato?\n",
    "\n",
    "c) La metà degli alunni di una classe sono assenti ed un terzo dei rimanenti non hanno fatto i compiti. Quale è la frazione della classe che ha svolto i compiti regolarmente?\n",
    "\n",
    "Se la classe è formata da 24 alunni, quanti sono quelli che non hanno svolto i compiti?"
   ]
  },
  {
   "cell_type": "markdown",
   "metadata": {},
   "source": [
    "### ESERCIZIO 5 - Prodotto di frazioni\n",
    "\n",
    "Calcola le seguenti quantità dopo aver scritto l'espressione che la rappresenta.\n",
    "\n",
    "a) i cinque dodicesimi di 9; i cinque dodicesimi di 60; i tre quarti del doppio di 20;\n",
    "\n",
    "b) la metà di un decimo; i due terzi di 60; i tre quarti del doppio di 20;\n",
    "\n",
    "c) un quinto dei due terzi di 9; la metà della metà di 20; il doppio di cinque quinti della metà di 30;"
   ]
  },
  {
   "cell_type": "markdown",
   "metadata": {},
   "source": [
    "### ESERCIZIO 6 - Prodotto di frazioni\n",
    "\n",
    "Scrivi a parole le espressioni contenute nei punti a) e b) del'esercizio 3."
   ]
  },
  {
   "cell_type": "markdown",
   "metadata": {},
   "source": [
    "### ESERCIZIO 7 - Il minimo comune denominatore\n",
    "\n",
    "Riduci le frazioni di ognuno dei seguenti gruppi al minimo comune denominatore.\n",
    "\n",
    "a) $[\\dfrac{7}{2},\\dfrac{3}{5}];\\:[\\dfrac{1}{2},\\dfrac{3}{5}];\\:[\\dfrac{1}{6},\\dfrac{1}{2}];\\:[\\dfrac{3}{8},\\dfrac{1}{4}];$\n",
    "\n",
    "b) $[\\dfrac{7}{15},\\dfrac{1}{30},\\dfrac{3}{10}];\\:[\\dfrac{4}{6},\\dfrac{9}{10},\\dfrac{11}{30}];\\:[\\dfrac{3}{7},2,\\dfrac{31}{49}];$\n",
    "\n",
    "[Verifica con SymPy. Il minimo comune denominatore di $\\dfrac{7}{2} $ e $\\dfrac{3}{5}$ è lcm(2,5). Il numeratore della prima è lcm(2,5)/2, il numeratore della seconda è lcm(2,5)/5.]"
   ]
  },
  {
   "cell_type": "markdown",
   "metadata": {},
   "source": [
    "### ESERCIZIO 8 - Ordinamento delle frazioni\n",
    "\n",
    "Scrivi in ordine crescente le seguenti frazioni.\n",
    "\n",
    "a) $\\dfrac{3}{2},\\dfrac{4}{8},\\dfrac{8}{3},\\dfrac{7}{7},\\dfrac{15}{4};$\n",
    "\n",
    "b) $-\\dfrac{1}{3},\\dfrac{11}{6},-\\dfrac{9}{8},+\\dfrac{2}{3},-\\dfrac{6}{5},+\\dfrac{4}{3}.$\n",
    "\n",
    "[Verifica con SymPy. l=[3/2, 4/8, 8/3, 7/7, 15/4]; l; l.sort(); l.]"
   ]
  },
  {
   "cell_type": "markdown",
   "metadata": {},
   "source": [
    "### ESERCIZIO 9 - Somma algebrica di frazioni\n",
    "\n",
    "Calcola le seguenti somme algebriche.\n",
    "\n",
    "a) $\\dfrac{1}{2}+\\dfrac{3}{2};\\:,\\dfrac{4}{5}+\\dfrac{6}{5}-\\dfrac{20}{5};\\:-\\dfrac{2}{3}-\\dfrac{5}{3}+\\dfrac{2}{3}+\\dfrac{5}{3};$\n",
    "\n",
    "b) $\\dfrac{1}{2}-\\dfrac{3}{5};\\:,\\dfrac{1}{5}+\\dfrac{2}{3};\\:\\dfrac{1}{6}-\\dfrac{1}{2};$\n",
    "\n",
    "c) $\\dfrac{2}{3}-\\dfrac{3}{2};\\:\\dfrac{4}{5}+5;\\:-5-\\dfrac{7}{8};\\:2-\\dfrac{1}{4};\\:2+\\dfrac{1}{4};\\:2-\\dfrac{1}{4}\\:,\\dfrac{2}{3}+\\dfrac{1}{8}-1;$\n",
    "\n",
    "d) $-\\dfrac{8}{3}+5-\\dfrac{2}{5};\\:12-\\dfrac{1}{3}-\\dfrac{1}{9}.$"
   ]
  },
  {
   "cell_type": "markdown",
   "metadata": {},
   "source": [
    "### ESERCIZIO 10 - Espressioni con somme di frazioni\n",
    "\n",
    "Calcola il valore delle seguenti espressioni.\n",
    "\n",
    "a) $3-\\dfrac{1}{2}+\\left[\\dfrac{3}{4}+\\left(\\dfrac{1}{5}-\\dfrac{6}{10}\\right)\\right]-1;\\:,\\dfrac{1}{10}-\\dfrac{3}{5}+\\left[\\dfrac{2}{5}-\\left(6-7-\\dfrac{2}{10}\\right)\\right]-\\left(\\dfrac{6}{5}+3\\right);$    $[R. \\dfrac{37}{20};-1]$\n",
    "\n",
    "b) $-\\left(1+2\\right)-\\left(\\dfrac{1}{12}+\\dfrac{1}{2}\\right)+\\left(\\dfrac{5}{2}+\\dfrac{4}{3}\\right)-\\left[\\dfrac{1}{6}+\\left(-\\dfrac{5}{4}-\\dfrac{1}{3}\\right)-1\\right];$     $[R. 0]$\n",
    "\n",
    "c) $7-\\left[\\left(3+\\dfrac{1}{5}-\\dfrac{3}{4}-2\\right)-\\left(\\dfrac{2}{5}-6+\\dfrac{3}{4}-\\dfrac{1}{2}\\right)\\right]+\\dfrac{6}{5}-\\left(\\dfrac{7}{20}+\\dfrac{1}{20}\\right).$     $[R. 2]$"
   ]
  },
  {
   "cell_type": "markdown",
   "metadata": {},
   "source": [
    "### ESERCIZIO 11 - Espressioni con le quattro operazioni tra frazioni\n",
    "\n",
    "Calcola il valore delle seguenti espressioni.\n",
    "\n",
    "a) $\\left(\\dfrac{2}{5}-\\dfrac{2}{3}\\right)\\cdot\\left(\\dfrac{1}{2}-\\dfrac{4}{3}\\right);\\:\\dfrac{2}{5}\\cdot\\left(-\\dfrac{15}{4}\\right)\\cdot\\left(-\\dfrac{2}{3}\\right);\\:\\left(\\dfrac{2}{3}+1\\right)\\cdot\\left(2-\\dfrac{1}{5}\\right);$     $[R. \\dfrac{2}{9};-\\dfrac{9}{2};3]$\n",
    "\n",
    "b) $\\dfrac{2}{4}:\\dfrac{1}{2};\\:\\dfrac{4}{5}:\\left(-\\dfrac{12}{25}\\right);\\:\\dfrac{2}{5}:4;\\:\\left(-1\\right):\\left(-5\\right);$\n",
    "\n",
    "c) $\\left(3-\\dfrac{3}{11}\\right):\\left(\\dfrac{3}{2}-\\dfrac{4}{11}\\right);\\:\\left(+7\\right):\\left(+3\\right)\\cdot\\left(-5\\right);\\:\\left(+7\\right):\\left[\\left(+3\\right)\\cdot\\left(-5\\right)\\right].$     $[R. \\dfrac{12}{5};-\\dfrac{35}{3};-\\dfrac{7}{15}]$"
   ]
  },
  {
   "cell_type": "markdown",
   "metadata": {},
   "source": [
    "### ESERCIZIO 12 - Espressioni con le quattro operazioni tra frazioni\n",
    "\n",
    "Calcola il valore delle seguenti espressioni.\n",
    "\n",
    "a) $9\\left(-\\dfrac{1}{15}\\right)\\left(-10\\right)\\left(-\\dfrac{7}{6}\\right);\\:\\left[\\left(-\\dfrac{7}{5}\\right)\\left(-\\dfrac{10}{21}\\right)+\\dfrac{11}{3}\\left(-\\dfrac{9}{2}\\right)\\right]:\\left(-\\dfrac{19}{9}\\right).$     $[R. -7;\\dfrac{15}{2}]$"
   ]
  },
  {
   "cell_type": "markdown",
   "metadata": {},
   "source": [
    "### ESERCIZIO 13 - Dalle parole alle espressioni (I)\n",
    "\n",
    "Scrivi le espressioni relative alle seguenti frasi e calcolane il risultato.\n",
    "\n",
    "a) Aggiungi 1/5 alla somma di 1/2 e 1/3; Aggiungi 2/3 alla somma di 5/6 e 1; Somma 5 al risultato della somma tra 5/6 e 8/3;\n",
    "\n",
    "b) Sottrai 1/2 dalla somma di 3 e 1/4; Aggiungi 1 alla somma di 1/5 e -1; Togli da 1/3 la somma di -2/3 e 1/3;\n",
    "\n",
    "c) Raddoppia il prodotto fra 4/7 e 7/2; Scrivi il Triplo del prodotto fra 5/6 e 3/10; Aggiungi 1/4 a tre volte il quoziente di 3/2 e 9/4;"
   ]
  },
  {
   "cell_type": "markdown",
   "metadata": {},
   "source": [
    "### ESERCIZIO 14 - Dalle parole alle espressioni (II)\n",
    "\n",
    "Indicando con x un numero qualsiasi, scrivi le espressioni relative alle frasi seguenti.\n",
    "\n",
    "a) Il precedente di x; il successivo di x; il doppio di x; il quadruplo di x;\n",
    "\n",
    "b) La terza parte di x; il cubo di x; il reciproco di x; il triplo di x;\n",
    "\n",
    "c) La metà di x; il quadrato di x; l’opposto di x; l’opposto del reciproco o l’antireciproco di x."
   ]
  },
  {
   "cell_type": "markdown",
   "metadata": {},
   "source": [
    "### ESERCIZIO 15 - Problemi con le frazioni (II)\n",
    "\n",
    "Risolvi i seguenti problemi.\n",
    "\n",
    "a) Paolo deve acquistare uno scooter che costa € 2760, ma possiede solo i 2/3 della somma. Quanto manca per effettuare la spesa?     [R. € 920]\n",
    "\n",
    "b) Ogni giro di stadio è i due quinti di un chilometro. Quanti giri di stadio deve compiere un corridore per completare un allenamento di 20 Km?     [R. 50]\n",
    "\n",
    "c) Un negozio di bricolage acquista un grande quantitativo di chodi da vendere in confezioni di 9/16 di Kg. Quante confezioni di chiodi si otterranno da 2.871 Kg di chiodi?     [R. 5104]\n",
    "\n",
    "d) In un centro commerciale Andrea acquista un set di valigie che sono in sconto. Se risparmia €123 e lo sconto è uguale ai 5/90 del prezzo iniziale, quanto costavano le valigie?     [R. € 150]\n",
    "\n",
    "e) Un camion può trasportare con sicurezza carichi fino ad una tonnellata. Sarebbe in grado di trasportare mezza tonnellata di sabbia, un terzo di ghiaia, ed un quinto di cemento in un solo viaggio?      [R. No]\n",
    "\n",
    "f) Su un cartone di latte da 500 ml c’è scritto: «Latte parzialmente scremato. Grasso max 1,8%». Quanti ml di grasso contiene il cartone di latte? Se un bicchiere medio contiene 200 ml di latte, quanti ml di grasso contiene?     [R.9 ml; 3,6 ml]\n",
    "\n",
    "g) Un libro oggi costa € 12,50. Se il suo prezzo viene aumentato del 3%, quanto costerà dopo l’aumento?     [R. € 12,88]"
   ]
  },
  {
   "cell_type": "markdown",
   "metadata": {},
   "source": [
    "### ESERCIZIO 16 - Dalle parole alle espressioni (III)\n",
    "\n",
    "Traduci in espressioni le seguenti frasi e calcola poi il loro valore, sostituendo alle lettere i dati assegnati.\n",
    "\n",
    "a) Sottrai dal doppio di a la terza parte di b. [a=1,b=$\\dfrac{2}{3}$]\n",
    "\n",
    "b) Moltiplica la somma del doppio di a e della terza parte di b per due. [a=1,b=$\\dfrac{2}{3}$]\n",
    "\n",
    "c) Somma il quadruplo del quadrato di a con il doppio di c. [a=1,b=$\\dfrac{2}{3}$]\n",
    "\n",
    "d) Moltiplica la somma del doppio di a e della terza parte di b per la differenza tra il doppio di a e la terza parte di b. [a=1,b=$\\dfrac{2}{3}$]          [R. $\\dfrac{15}{4}$]\n",
    "\n",
    "e) Sottrai 1/8 di a ai 4/5 di c, dividi poi il risultato per i 3/8 del quadrato di b.[ a=3,b=$-\\dfrac{1}{5}$,c=$\\dfrac{1}{16}$].     [R. $-\\dfrac{65}{3}$]\n",
    "\n",
    "f) Moltiplica la somma del doppio di a e della terza parte di b per la differenza tra il doppio di a e la terza parte di b, sottrai poi al risultato la somma del quadruplo del quadrato di a e del doppio di c. [a=1,b=$\\dfrac{2}{3}$,c=-2]          [R. $\\dfrac{15}{4}$]\n",
    "\n",
    "g) Moltiplica la differenza tra i 2/5 di a e la metà di b per il doppio di c, somma poi al risultato il quoziente tra 1/4 di a e la differenza tra il doppio di b e 1. [a=$\\dfrac{5}{3}$,b=2,c=$\\dfrac{3}{4}$].     [R. $-\\dfrac{15}{36}$]\n",
    "\n",
    "[Verifica con SymPy. ex=2*a+b/3; ex.subs({a: 1, b: 2/3})]."
   ]
  },
  {
   "cell_type": "markdown",
   "metadata": {},
   "source": [
    "### ESERCIZIO 17 - Dalle parole alle espressioni (IV)\n",
    "\n",
    "Scrivi le espressioni relative alle seguenti frasi.\n",
    "\n",
    "a) Dati i numeri a e b, moltiplica la somma dei loro opposti per la somma dei due numeri e sottrai il doppio del prodotto dei due numeri;\n",
    "\n",
    "b) Dati i numeri a e b, al quadrato della loro somma togli il doppio del prodotto fra la loro somma e la loro differenza;\n",
    "\n",
    "c) Al quadrato della somma del cubo di un numero x e del suo doppio togli il cubo della somma del quadrato del numero e 4/3."
   ]
  },
  {
   "cell_type": "markdown",
   "metadata": {},
   "source": [
    "### ESERCIZIO 18 - Dalle espressioni alle parole\n",
    "\n",
    "Scrivi a parole le seguenti espressioni.\n",
    "\n",
    "a) $\\dfrac{1}{3}-\\left(-\\dfrac{2}{3}+\\dfrac{1}{3}\\right);$\n",
    "\n",
    "b) $\\left(-\\dfrac{2}{3}+\\dfrac{1}{3}\\right)\\cdot\\dfrac{1}{3}-1;$\n",
    "\n",
    "c) $\\dfrac{a}{2}-\\left(\\dfrac{1}{3}-a\\right);$\n",
    "\n",
    "d) $\\dfrac{1}{3}\\dfrac{a}{2}-\\left(-\\dfrac{1}{3}-a\\right).$"
   ]
  },
  {
   "cell_type": "markdown",
   "metadata": {},
   "source": [
    "### ESERCIZIO 19 - Potenze con le frazioni\n",
    "\n",
    "Calcola il valore delle seguenti potenze.\n",
    "\n",
    "a) $\\left(\\dfrac{3}{4}\\right)^{2},\\left(\\dfrac{2}{3}\\right)^{4},\\left(\\dfrac{1}{2}\\right)^{5},\\left(\\dfrac{3}{2}\\right)^{0};$\n",
    "\n",
    "b) $\\left(1-\\dfrac{1}{2}\\right)^{2},\\left(2-\\dfrac{5}{4}\\right)^{0},\\left(\\dfrac{3}{2}-\\dfrac{6}{4}\\right)^{2}.$"
   ]
  },
  {
   "cell_type": "markdown",
   "metadata": {},
   "source": [
    "### ESERCIZIO 20 - Espressioni con le frazioni\n",
    "\n",
    "Calcola il valore delle seguenti espressioni contenenti potenze.\n",
    "\n",
    "a) $\\left(\\dfrac{1}{2}+\\dfrac{2}{3}+\\dfrac{3}{4}\\right)^{2}:\\left(1-\\dfrac{2}{3}+\\dfrac{1}{4}-\\dfrac{1}{6}\\right)^{2},\\left[\\dfrac{9}{2}+\\dfrac{3}{8}-\\left(\\dfrac{3}{2}\\right)^{2}\\right]:\\left(1+\\dfrac{1}{2}\\right)^{3};$\n",
    "            $[R. \\dfrac{12}{5};7]$\n",
    "\n",
    "b) $\\dfrac{2}{5}:\\left\\{ \\left[\\dfrac{1}{2}+\\left(1+\\dfrac{1}{5}\\right)^{2}\\left(1-\\dfrac{1}{6}\\right)-\\left(\\dfrac{1}{2}\\right)^{2}\\right]^{2}\\left(1+\\dfrac{3}{5}\\right)^{2}\\right\\};$\n",
    "            $[R. \\dfrac{1}{10}]$\n",
    "\n",
    "c) $\\left\\{ \\left[\\dfrac{23}{12}:\\left(\\dfrac{5}{4}-\\dfrac{2}{3}\\right)\\right]:\\left(\\dfrac{11}{20}+\\dfrac{7}{4}\\right)\\right\\} ^{2}\\text{·}\\left[\\left(\\dfrac{10}{7}\\right)^{2}\\text{·}\\left(\\dfrac{10}{7}\\right)\\right]^{0}:\\left(\\dfrac{10}{7}\\right)^{2};$\n",
    "            $[R. 1]$"
   ]
  },
  {
   "cell_type": "markdown",
   "metadata": {},
   "source": [
    "### ESERCIZIO 21 - Problemi con percentuali\n",
    "\n",
    "a) Due persone ereditano 25.000 euro. Una delle due ha diritto al 25% dell’eredità.\n",
    "\n",
    "A quale percentuale ha diritto la seconda persona? Qual è la somma ricevuta da ciascuna?     [R. 75%; € 6250 euro; € 18 750]\n",
    "\n",
    "b) Un libro oggi costa € 12,50. Se il suo prezzo viene aumentato del 3%, quanto costerà dopo l’aumento?     [R. € 12,88]\n",
    "\n",
    "c) Sapendo che il latte contiene panna per circa l’11% del suo peso e che la panna produce burro per il 27% del suo peso, calcola quanti kilogrammi di burro si possono ricavare da 125 kilogrammi di latte.      [R. 3.7125 kg] "
   ]
  },
  {
   "cell_type": "markdown",
   "metadata": {},
   "source": [
    "### ESERCIZIO 22 - Proprietà delle potenze\n",
    "\n",
    "Calcola, applicando le proprietà delle potenze, il valore delle seguenti espressioni.\n",
    "\n",
    "a) $\\left[\\left(-\\dfrac{1}{4}\\right)^{3}:\\left(-\\dfrac{1}{4}\\right)\\right]^{2};\\:\\left(-\\dfrac{1}{5}\\right)^{10}:\\left(-\\dfrac{1}{5}\\right)^{6}\\text{·}10^{4};$     $[R. \\dfrac{1}{256};16]$\n",
    "\n",
    "b) $\\left[-\\left(\\dfrac{1}{25}\\right)^{2}\\cdot\\left(\\dfrac{1}{25}\\right)^{3}\\right]\\text{·}\\left(\\dfrac{25}{3}\\right)^{5};\\:\\left[\\left(\\dfrac{4}{3}\\right)^{2}\\right]^{3}\\text{·}\\left(\\dfrac{3}{2}\\right)^{6}\\text{·}\\left(-\\dfrac{1}{2}\\right)^{6};$     $[R. \\dfrac{1}{243}.1]$"
   ]
  },
  {
   "cell_type": "markdown",
   "metadata": {
    "collapsed": false
   },
   "source": [
    "### ESERCIZIO 23 - Sostituzioni e valore delle espressioni\n",
    "\n",
    "Di ognuna delle seguenti espressioni stabilisci se è intera o frazionaria e calcolane il valore dopo aver sostituito i numeri alle variabili.\n",
    "\n",
    "a)  $a-\\left(b+c\\right),\\left[a=\\dfrac{1}{2},b=\\dfrac{2}{3},c=\\dfrac{1}{4}\\right]$;$a-\\left(b-c\\right),\\left[a=\\dfrac{2}{3},b=\\dfrac{1}{6},c=\\dfrac{2}{9}\\right]$;$a+\\left(-b\\right)-c,\\left[a=\\dfrac{5}{9},b=\\dfrac{1}{18},c=-\\dfrac{2}{3}\\right]$\n",
    "\n",
    "b) $\\left(\\dfrac{1}{a}\\cdot b\\right):\\left(-c\\right),\\left[a=2,b=\\dfrac{4}{5},c=\\dfrac{1}{5}\\right]$;$\\left(a+b\\right)^{2}\\left(-a-b\\right)^{2},\\left[a=-\\dfrac{2}{3},b=1\\right]$;$\\dfrac{x+y}{x-y}+\\left(\\dfrac{x-y}{x+y}\\right)^{2},\\left[x=-\\dfrac{1}{2},y=-\\dfrac{1}{2}\\right]$"
   ]
  }
 ],
 "metadata": {
  "anaconda-cloud": {},
  "kernelspec": {
   "display_name": "Python [conda root]",
   "language": "python",
   "name": "conda-root-py"
  },
  "language_info": {
   "codemirror_mode": {
    "name": "ipython",
    "version": 3
   },
   "file_extension": ".py",
   "mimetype": "text/x-python",
   "name": "python",
   "nbconvert_exporter": "python",
   "pygments_lexer": "ipython3",
   "version": "3.5.2"
  }
 },
 "nbformat": 4,
 "nbformat_minor": 1
}
